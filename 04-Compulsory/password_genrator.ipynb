{
  "nbformat": 4,
  "nbformat_minor": 0,
  "metadata": {
    "colab": {
      "provenance": [],
      "authorship_tag": "ABX9TyPwf2J04qfDTKIu/MaUrsIp",
      "include_colab_link": true
    },
    "kernelspec": {
      "name": "python3",
      "display_name": "Python 3"
    },
    "language_info": {
      "name": "python"
    }
  },
  "cells": [
    {
      "cell_type": "markdown",
      "metadata": {
        "id": "view-in-github",
        "colab_type": "text"
      },
      "source": [
        "<a href=\"https://colab.research.google.com/github/muskan-fatim/Assigments/blob/main/password_genrator.ipynb\" target=\"_parent\"><img src=\"https://colab.research.google.com/assets/colab-badge.svg\" alt=\"Open In Colab\"/></a>"
      ]
    },
    {
      "cell_type": "code",
      "execution_count": 23,
      "metadata": {
        "colab": {
          "base_uri": "https://localhost:8080/",
          "height": 90
        },
        "id": "yndVrQ06EyE4",
        "outputId": "72c3087b-bec1-4138-d856-f6d467ba829e"
      },
      "outputs": [
        {
          "output_type": "stream",
          "name": "stdout",
          "text": [
            "Password generator\n",
            "Copy your strong password. 😎\n",
            "=========\n"
          ]
        },
        {
          "output_type": "execute_result",
          "data": {
            "text/plain": [
              "'7J(@h3&gMdm>'"
            ],
            "application/vnd.google.colaboratory.intrinsic+json": {
              "type": "string"
            }
          },
          "metadata": {},
          "execution_count": 23
        }
      ],
      "source": [
        "import random\n",
        "import string\n",
        "print(\"Password generator\")\n",
        "print(\"Copy your strong password. 😎\")\n",
        "print(\"=========\")\n",
        "# Basic character set: letters + digits + punctuation\n",
        "chars = string.ascii_letters + string.digits + string.punctuation\n",
        "\n",
        "passwords = []\n",
        "\n",
        "for i in range(6):\n",
        "    password = ''\n",
        "    for j in range(12):  # 12-character password\n",
        "        password += random.choice(chars)\n",
        "    passwords.append(password)\n",
        "\n",
        "random.choice(passwords)\n",
        "\n"
      ]
    },
    {
      "cell_type": "code",
      "source": [],
      "metadata": {
        "id": "tog0XbuCMbcW"
      },
      "execution_count": null,
      "outputs": []
    }
  ]
}