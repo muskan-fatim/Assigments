{
  "cells": [
    {
      "cell_type": "code",
      "execution_count": 23,
      "metadata": {
        "colab": {
          "base_uri": "https://localhost:8080/",
          "height": 90
        },
        "id": "yndVrQ06EyE4",
        "outputId": "72c3087b-bec1-4138-d856-f6d467ba829e"
      },
      "outputs": [
        {
          "name": "stdout",
          "output_type": "stream",
          "text": [
            "Password generator\n",
            "Copy your strong password. 😎\n",
            "=========\n"
          ]
        },
        {
          "data": {
            "application/vnd.google.colaboratory.intrinsic+json": {
              "type": "string"
            },
            "text/plain": [
              "'7J(@h3&gMdm>'"
            ]
          },
          "execution_count": 23,
          "metadata": {},
          "output_type": "execute_result"
        }
      ],
      "source": [
        "import random\n",
        "import string\n",
        "print(\"Password generator\")\n",
        "print(\"Copy your strong password. 😎\")\n",
        "print(\"=========\")\n",
        "# Basic character set: letters + digits + punctuation\n",
        "chars = string.ascii_letters + string.digits + string.punctuation\n",
        "\n",
        "passwords = []\n",
        "\n",
        "for i in range(6):\n",
        "    password = ''\n",
        "    for j in range(12):  # 12-character password\n",
        "        password += random.choice(chars)\n",
        "    passwords.append(password)\n",
        "\n",
        "random.choice(passwords)\n",
        "\n"
      ]
    },
    {
      "cell_type": "code",
      "execution_count": null,
      "metadata": {
        "id": "tog0XbuCMbcW"
      },
      "outputs": [],
      "source": []
    }
  ],
  "metadata": {
    "colab": {
      "authorship_tag": "ABX9TyPwf2J04qfDTKIu/MaUrsIp",
      "include_colab_link": true,
      "provenance": []
    },
    "kernelspec": {
      "display_name": "Python 3",
      "name": "python3"
    },
    "language_info": {
      "name": "python"
    }
  },
  "nbformat": 4,
  "nbformat_minor": 0
}
