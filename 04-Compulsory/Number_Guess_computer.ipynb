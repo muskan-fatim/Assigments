{
 "cells": [
  {
   "cell_type": "markdown",
   "metadata": {},
   "source": [
    "<a href=\"https://colab.research.google.com/notebooks/intro.ipynb#scrollTo=bhUevbolhc8b&line=14&uniqifier=1\">\n",
    "<img src=\"https://colab.research.google.com/assets/colab-badge.svg\" alt=\"Open In Colab\"/></a>\n"
   ]
  },
  {
   "cell_type": "code",
   "execution_count": 4,
   "metadata": {},
   "outputs": [
    {
     "name": "stdout",
     "output_type": "stream",
     "text": [
      "welcome to the low and high Game\n",
      "Computer wil guess that number is lower or higher\n",
      "your number is 8\n",
      "you enter 8 and actuall number is 29\n",
      "the computer guessed lower correctly\n"
     ]
    }
   ],
   "source": [
    "import random\n",
    "print(\"welcome to the low and high Game\")\n",
    "def computer_game():\n",
    "  print(\"Computer wil guess that number is lower or higher\")\n",
    "  user =  input(\"Enter your Number between 1 to 100\")\n",
    "  computer = random.randint(1,100)\n",
    "  choices = [\"high\",\"lower\"]\n",
    "  print(f\"your number is {user}\")\n",
    "  computer_Guess = random.choice(choices)\n",
    "  if int(user) < computer:\n",
    "     result = \"lower\"\n",
    "  elif int(user) > computer:\n",
    "    result = \"higher\"\n",
    "  if result == computer_Guess:\n",
    "      print(f\"you enter {user} and actuall number is {computer}\")\n",
    "      print(f\"the computer guessed {computer_Guess} correctly\")\n",
    "  else:\n",
    "      print(f\"the computer guessed {computer_Guess}\")\n",
    "      print(f\"you enter {user} and actuall number is {computer}\")\n",
    "      return f\"Aww, that's incorrect.\"\n",
    "\n",
    "\n",
    "computer_game()\n"
   ]
  }
 ],
 "metadata": {
  "kernelspec": {
   "display_name": "base",
   "language": "python",
   "name": "python3"
  },
  "language_info": {
   "codemirror_mode": {
    "name": "ipython",
    "version": 3
   },
   "file_extension": ".py",
   "mimetype": "text/x-python",
   "name": "python",
   "nbconvert_exporter": "python",
   "pygments_lexer": "ipython3",
   "version": "3.12.7"
  }
 },
 "nbformat": 4,
 "nbformat_minor": 2
}
