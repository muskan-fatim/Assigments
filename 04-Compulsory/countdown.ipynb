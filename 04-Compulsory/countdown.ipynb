{
  "nbformat": 4,
  "nbformat_minor": 0,
  "metadata": {
    "colab": {
      "provenance": [],
      "authorship_tag": "ABX9TyNmQ0k5ixV75jUELAxsPyGF",
      "include_colab_link": true
    },
    "kernelspec": {
      "name": "python3",
      "display_name": "Python 3"
    },
    "language_info": {
      "name": "python"
    }
  },
  "cells": [
    {
      "cell_type": "markdown",
      "metadata": {
        "id": "view-in-github",
        "colab_type": "text"
      },
      "source": [
        "<a href=\"https://colab.research.google.com/github/muskan-fatim/Assigments/blob/main/countdown.ipynb\" target=\"_parent\"><img src=\"https://colab.research.google.com/assets/colab-badge.svg\" alt=\"Open In Colab\"/></a>"
      ]
    },
    {
      "cell_type": "code",
      "execution_count": 16,
      "metadata": {
        "colab": {
          "base_uri": "https://localhost:8080/"
        },
        "id": "yndVrQ06EyE4",
        "outputId": "27d797d0-e62b-4ee1-c6db-f0b79c3d1685"
      },
      "outputs": [
        {
          "output_type": "stream",
          "name": "stdout",
          "text": [
            "countdown\n",
            "enter the countdown number8\n",
            "8\n",
            "7\n",
            "6\n",
            "5\n",
            "4\n",
            "3\n",
            "2\n",
            "1\n"
          ]
        }
      ],
      "source": [
        "\n",
        "import time\n",
        "print(\"countdown\")\n",
        "count = int(input(\"enter the countdown number\"))\n",
        "set\n",
        "for i in range(count , 0 ,-1):\n",
        "    time.sleep(1)\n",
        "    print(i)\n",
        "\n"
      ]
    }
  ]
}