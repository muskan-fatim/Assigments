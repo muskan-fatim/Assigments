{
 "cells": [
  {
   "cell_type": "markdown",
   "metadata": {},
   "source": [
    "<a href=\"https://colab.research.google.com/notebooks/intro.ipynb#scrollTo=bhUevbolhc8b&line=19&uniqifier=1\">\n",
    "<img src=\"https://colab.research.google.com/assets/colab-badge.svg\" alt=\"Open In Colab\"/></a>\n"
   ]
  },
  {
   "cell_type": "code",
   "execution_count": 1,
   "metadata": {},
   "outputs": [
    {
     "name": "stdout",
     "output_type": "stream",
     "text": [
      "welcome to the low and high Game\n",
      "your number is 5\n"
     ]
    },
    {
     "data": {
      "text/plain": [
       "\"You were right! The computer's number was 38\""
      ]
     },
     "execution_count": 1,
     "metadata": {},
     "output_type": "execute_result"
    }
   ],
   "source": [
    "import random\n",
    "print(\"welcome to the low and high Game\")\n",
    "def game():\n",
    "  user =  input(\"Enter your Number between 1 to 100\")\n",
    "  computer = random.randint(1,100)\n",
    "  print(f\"your number is {user}\")\n",
    "  Guess_Number = input(\"Do you think your number is higher or lower than the computer's?\")\n",
    "  if int(user) < computer:\n",
    "     result = \"lower\"\n",
    "  elif int(user) > computer:\n",
    "    result = \"higher\"\n",
    "  if result == Guess_Number:\n",
    "      return f\"You were right! The computer's number was {computer}\"\n",
    "  else:\n",
    "      return f\"Aww, that's incorrect. The computer's number was {computer}\"\n",
    "\n",
    "\n",
    "game()\n"
   ]
  }
 ],
 "metadata": {
  "kernelspec": {
   "display_name": "base",
   "language": "python",
   "name": "python3"
  },
  "language_info": {
   "codemirror_mode": {
    "name": "ipython",
    "version": 3
   },
   "file_extension": ".py",
   "mimetype": "text/x-python",
   "name": "python",
   "nbconvert_exporter": "python",
   "pygments_lexer": "ipython3",
   "version": "3.12.7"
  }
 },
 "nbformat": 4,
 "nbformat_minor": 2
}
