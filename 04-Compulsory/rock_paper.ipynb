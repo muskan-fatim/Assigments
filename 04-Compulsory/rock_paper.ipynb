{
 "cells": [
  {
   "cell_type": "code",
   "execution_count": 4,
   "metadata": {},
   "outputs": [
    {
     "name": "stdout",
     "output_type": "stream",
     "text": [
      "Welcome to the Rock-Paper-Scissors game!\n",
      "Computer chose: paper\n",
      "You win!\n"
     ]
    }
   ],
   "source": [
    "import random\n",
    "\n",
    "print('Welcome to the Rock-Paper-Scissors game!')\n",
    "choices = [\"rock\", \"paper\", \"scissor\"]\n",
    "computer = random.choice(choices)\n",
    "user = input(\"Enter your choice (rock, paper, scissor): \").lower()\n",
    "\n",
    "if user not in choices:\n",
    "    print(\"Invalid choice! Please choose rock, paper, or scissor.\")\n",
    "else:\n",
    "    print(f\"Computer chose: {computer}\")\n",
    "    if user == computer:\n",
    "        print(\"It's a tie!\")\n",
    "    elif user == \"rock\" and computer == \"scissor\":\n",
    "        print(\"You win!\")\n",
    "    elif user == \"paper\" and computer == \"rock\":\n",
    "        print(\"You win!\")\n",
    "    elif user == \"scissor\" and computer == \"paper\":\n",
    "        print(\"You win!\")\n",
    "    else:\n",
    "        print(\"Computer wins!\")"
   ]
  }
 ],
 "metadata": {
  "kernelspec": {
   "display_name": "base",
   "language": "python",
   "name": "python3"
  },
  "language_info": {
   "codemirror_mode": {
    "name": "ipython",
    "version": 3
   },
   "file_extension": ".py",
   "mimetype": "text/x-python",
   "name": "python",
   "nbconvert_exporter": "python",
   "pygments_lexer": "ipython3",
   "version": "3.12.7"
  }
 },
 "nbformat": 4,
 "nbformat_minor": 2
}
