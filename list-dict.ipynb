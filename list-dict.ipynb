{
  "nbformat": 4,
  "nbformat_minor": 0,
  "metadata": {
    "colab": {
      "provenance": [],
      "authorship_tag": "ABX9TyM6ZzH2OSsC3JcPhRICYOIe",
      "include_colab_link": true
    },
    "kernelspec": {
      "name": "python3",
      "display_name": "Python 3"
    },
    "language_info": {
      "name": "python"
    }
  },
  "cells": [
    {
      "cell_type": "markdown",
      "metadata": {
        "id": "view-in-github",
        "colab_type": "text"
      },
      "source": [
        "<a href=\"https://colab.research.google.com/github/muskan-fatim/Assigments/blob/main/list-dict.ipynb\" target=\"_parent\"><img src=\"https://colab.research.google.com/assets/colab-badge.svg\" alt=\"Open In Colab\"/></a>"
      ]
    },
    {
      "cell_type": "code",
      "execution_count": 15,
      "metadata": {
        "colab": {
          "base_uri": "https://localhost:8080/"
        },
        "id": "C6smqu4B4uLo",
        "outputId": "b913fd0c-cd20-4d26-f08a-55677ecafcf1"
      },
      "outputs": [
        {
          "output_type": "stream",
          "name": "stdout",
          "text": [
            "Length of fruit_list: 5\n",
            "Updated fruit_list: ['apple', 'banana', 'orange', 'grape', 'pineapple', 'mango']\n",
            "pineapple\n",
            "Element at index 3 updated to 'kiwi'\n",
            "['banana', 'orange']\n",
            "\n",
            "Current List: ['Python', 'Java', 'C++', 'JavaScript', 'Ruby']\n",
            "Choose an operation: access / modify / slice / quit\n",
            "Your choice: slice\n",
            "Enter start index: 2\n",
            "Enter end index: 5\n",
            "Sliced List: ['C++', 'JavaScript', 'Ruby']\n",
            "\n",
            "Current List: ['Python', 'Java', 'C++', 'JavaScript', 'Ruby']\n",
            "Choose an operation: access / modify / slice / quit\n",
            "Your choice: quit\n",
            "Thanks for playing!\n"
          ]
        }
      ],
      "source": [
        "# probelm no 1\n",
        "fruit_list = ['apple', 'banana', 'orange', 'grape', 'pineapple']\n",
        "\n",
        "def main():\n",
        "\n",
        "    print(\"Length of fruit_list:\", len(fruit_list))\n",
        "\n",
        "    fruit_list.append('mango')\n",
        "\n",
        "    print(\"Updated fruit_list:\", fruit_list)\n",
        "\n",
        "main()\n",
        "\n",
        "# probelm no 2\n",
        "def access_element(lst, index):\n",
        "    if 0 <= index < len(lst):\n",
        "        return lst[index]\n",
        "    else:\n",
        "        return \"Index out of range!\"\n",
        "\n",
        "def modify_element(lst, index, new_value):\n",
        "    if 0 <= index < len(lst):\n",
        "        lst[index] = new_value\n",
        "        return f\"Element at index {index} updated to '{new_value}'\"\n",
        "    else:\n",
        "        return \"Index out of range!\"\n",
        "\n",
        "def slice_list(lst, start, end):\n",
        "    if start < 0 or end > len(lst):\n",
        "        return \"Invalid slicing range!\"\n",
        "    return lst[start:end]\n",
        "\n",
        "print(access_element(fruit_list,4 ))\n",
        "print(modify_element(fruit_list,3 ,\"kiwi\" ))\n",
        "print(slice_list(fruit_list, 1 ,3 ))\n",
        "\n",
        "# probelm no 3\n",
        "\n",
        "def game():\n",
        "    # Initialize list\n",
        "    my_list = ['Python', 'Java', 'C++', 'JavaScript', 'Ruby']\n",
        "\n",
        "    while True:\n",
        "        print(\"\\nCurrent List:\", my_list)\n",
        "        print(\"Choose an operation: access / modify / slice / quit\")\n",
        "        choice = input(\"Your choice: \").strip().lower()\n",
        "\n",
        "        if choice == 'access':\n",
        "            index = int(input(\"Enter index to access: \"))\n",
        "            print(\"Result:\", access_element(my_list, index))\n",
        "\n",
        "        elif choice == 'modify':\n",
        "            index = int(input(\"Enter index to modify: \"))\n",
        "            new_value = input(\"Enter new value: \")\n",
        "            result = modify_element(my_list, index, new_value)\n",
        "            print(\"Result:\", result)\n",
        "\n",
        "        elif choice == 'slice':\n",
        "            start = int(input(\"Enter start index: \"))\n",
        "            end = int(input(\"Enter end index: \"))\n",
        "            print(\"Sliced List:\", slice_list(my_list, start, end))\n",
        "\n",
        "        elif choice == 'quit':\n",
        "            print(\"Thanks for playing!\")\n",
        "            break\n",
        "\n",
        "        else:\n",
        "            print(\"Invalid choice! Try again.\")\n",
        "\n",
        "\n",
        "game()\n",
        "\n",
        "\n"
      ]
    }
  ]
}