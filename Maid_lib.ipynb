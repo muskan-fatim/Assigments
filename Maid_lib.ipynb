{
  "cells": [
    {
      "cell_type": "markdown",
      "metadata": {
        "id": "view-in-github",
        "colab_type": "text"
      },
      "source": [
        "<a href=\"https://colab.research.google.com/github/muskan-fatim/Assigments/blob/main/Maid_lib.ipynb\" target=\"_parent\"><img src=\"https://colab.research.google.com/assets/colab-badge.svg\" alt=\"Open In Colab\"/></a>"
      ]
    },
    {
      "cell_type": "code",
      "source": [
        "import random\n",
        "print (\"welcome to the Maid libs\")\n",
        "print(\"complete the story giving noun verb and adjective\")\n",
        "adjective = input(\"Enter an adjective: \")\n",
        "noun = input(\"Enter a noun: \")\n",
        "verb = input(\"Enter a verb: \")\n",
        "stories = [\n",
        "    f\"Today I went to the zoo and saw a {adjective} {noun} jumping up and down while {verb}ing.\",\n",
        "    f\"In the {adjective} forest, I found a {noun} that loves to {verb} all day long.\",\n",
        "    f\"My best friend is a {adjective} {noun} who can {verb} better than anyone else.\",\n",
        "    f\"Yesterday, I saw a {adjective} movie about a {noun} that learns to {verb}.\",\n",
        "    f\"The {noun} was so {adjective} that it made everyone {verb} with laughter.\",\n",
        "    f\"On my vacation, I met a {adjective} wizard who turned my {noun} into a {verb}ing machine.\",\n",
        "    f\"My school project was about a {adjective} {noun} that could {verb} through walls.\",\n",
        "    f\"At the carnival, a {adjective} clown gave me a {noun} and told me to {verb} it.\",\n",
        "    f\"The {noun} looked at me with {adjective} eyes and started to {verb}.\",\n",
        "    f\"Every morning, I drink a {adjective} smoothie made of {noun} and {verb} sauce.\"\n",
        "]\n",
        "story = random.choice(stories)\n",
        "print(story)\n",
        "\n",
        "\n"
      ],
      "metadata": {
        "colab": {
          "base_uri": "https://localhost:8080/"
        },
        "id": "_FO-fWQlWpbm",
        "outputId": "7947bcb4-ca97-4fa1-f01e-d48221d2d5b0"
      },
      "execution_count": 3,
      "outputs": [
        {
          "output_type": "stream",
          "name": "stdout",
          "text": [
            "welcome to the Maid libs\n",
            "complete the story giving noun verb and adjective\n",
            "Enter an adjective: open\n",
            "Enter a noun: pen\n",
            "Enter a verb: eating\n",
            "Today I went to the zoo and saw a open pen jumping up and down while eatinging.\n"
          ]
        }
      ]
    }
  ],
  "metadata": {
    "colab": {
      "name": "Welcome To Colab",
      "provenance": [],
      "include_colab_link": true
    },
    "kernelspec": {
      "display_name": "Python 3",
      "name": "python3"
    }
  },
  "nbformat": 4,
  "nbformat_minor": 0
}