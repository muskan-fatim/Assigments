{
  "nbformat": 4,
  "nbformat_minor": 0,
  "metadata": {
    "colab": {
      "provenance": [],
      "authorship_tag": "ABX9TyM5TyCe5AGWXMOjycz+EOjK",
      "include_colab_link": true
    },
    "kernelspec": {
      "name": "python3",
      "display_name": "Python 3"
    },
    "language_info": {
      "name": "python"
    }
  },
  "cells": [
    {
      "cell_type": "markdown",
      "metadata": {
        "id": "view-in-github",
        "colab_type": "text"
      },
      "source": [
        "<a href=\"https://colab.research.google.com/github/muskan-fatim/Assigments/blob/main/Untitled0.ipynb\" target=\"_parent\"><img src=\"https://colab.research.google.com/assets/colab-badge.svg\" alt=\"Open In Colab\"/></a>"
      ]
    },
    {
      "cell_type": "code",
      "execution_count": 6,
      "metadata": {
        "colab": {
          "base_uri": "https://localhost:8080/",
          "height": 109
        },
        "id": "C6smqu4B4uLo",
        "outputId": "22b09e34-9898-47e5-9e09-169087b2cc6c"
      },
      "outputs": [
        {
          "name": "stdout",
          "output_type": "stream",
          "text": [
            "welcome to the low and high Game\n",
            "Enter your Number between 1 to 1008\n",
            "your number is 8\n",
            "Do you think your number is higher or lower than the computer's?higher\n"
          ]
        },
        {
          "output_type": "execute_result",
          "data": {
            "text/plain": [
              "\"Aww, that's incorrect. The computer's number was 100\""
            ],
            "application/vnd.google.colaboratory.intrinsic+json": {
              "type": "string"
            }
          },
          "metadata": {},
          "execution_count": 6
        }
      ],
      "source": [
        "\n",
        "\n",
        "import random\n",
        "print(\"welcome to the low and high Game\")\n",
        "def game():\n",
        "  user =  input(\"Enter your Number between 1 to 100\")\n",
        "  computer = random.randint(1,100)\n",
        "  print(f\"your number is {user}\")\n",
        "  Guess_Number = input(\"Do you think your number is higher or lower than the computer's?\")\n",
        "  if int(user) < computer:\n",
        "     result = \"lower\"\n",
        "  elif int(user) > computer:\n",
        "    result = \"higher\"\n",
        "  if result == Guess_Number:\n",
        "      return f\"You were right! The computer's number was {computer}\"\n",
        "  else:\n",
        "      return f\"Aww, that's incorrect. The computer's number was {computer}\"\n",
        "\n",
        "\n",
        "game()\n"
      ]
    }
  ]
}