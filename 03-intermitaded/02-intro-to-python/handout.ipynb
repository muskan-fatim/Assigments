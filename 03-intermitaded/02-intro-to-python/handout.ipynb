{
  "nbformat": 4,
  "nbformat_minor": 0,
  "metadata": {
    "colab": {
      "provenance": [],
      "authorship_tag": "ABX9TyMKm98YJN5ISoT1e64QLQay",
      "include_colab_link": true
    },
    "kernelspec": {
      "name": "python3",
      "display_name": "Python 3"
    },
    "language_info": {
      "name": "python"
    }
  },
  "cells": [
    {
      "cell_type": "markdown",
      "metadata": {
        "id": "view-in-github",
        "colab_type": "text"
      },
      "source": [
        "<a href=\"https://colab.research.google.com/github/muskan-fatim/Assigments/blob/main/handout.ipynb\" target=\"_parent\"><img src=\"https://colab.research.google.com/assets/colab-badge.svg\" alt=\"Open In Colab\"/></a>"
      ]
    },
    {
      "cell_type": "code",
      "execution_count": 9,
      "metadata": {
        "colab": {
          "base_uri": "https://localhost:8080/"
        },
        "id": "C6smqu4B4uLo",
        "outputId": "86c2b9a4-40b7-446d-fb42-688b114e5e9c"
      },
      "outputs": [
        {
          "output_type": "stream",
          "name": "stdout",
          "text": [
            "Enter a weight on Earth: 89\n",
            "Enter a planet: Saturn\n",
            "The equivalent weight on Saturn: 96.21\n"
          ]
        }
      ],
      "source": [
        "\n",
        "earth_weight = float(input(\"Enter a weight on Earth: \"))\n",
        "planet = input(\"Enter a planet: \")\n",
        "\n",
        "gravity = {\n",
        "    \"Mercury\": 0.376,\n",
        "    \"Venus\": 0.889,\n",
        "    \"Mars\": 0.378,\n",
        "    \"Jupiter\": 2.36,\n",
        "    \"Saturn\": 1.081,\n",
        "    \"Uranus\": 0.815,\n",
        "    \"Neptune\": 1.14\n",
        "}\n",
        "\n",
        "planet_weight = earth_weight * gravity[planet]\n",
        "\n",
        "print(f\"The equivalent weight on {planet}: {round(planet_weight, 2)}\")\n",
        "\n"
      ]
    }
  ]
}